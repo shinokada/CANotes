{
 "cells": [
  {
   "cell_type": "raw",
   "metadata": {},
   "source": [
    "The value of $r$ is calculated using the following formula:\n",
    "\n",
    "\n",
    "$$\n",
    "r=\\frac{\\sum (x-\\bar{x})(y-\\bar{y})}{\\sqrt{\\sum (x-\\bar{x})^2 \\sum (y-\\bar{y})^2}}\n",
    "$$\n",
    "\n",
    "An alternative version is the formla:\n",
    "\n",
    "$$\n",
    "r=\\frac{\\sum xy-n\\bar{x}\\bar{y}}{\\sqrt{(\\sum (x^2-n\\bar{x}^2) (\\sum (y^2-n\\bar{y}^2)}}\n",
    "$$"
   ]
  },
  {
   "cell_type": "markdown",
   "metadata": {},
   "source": [
    "The value of $r$ is calculated using the following formula:\n",
    "\n",
    "\n",
    "$$\n",
    "r=\\frac{\\sum (x-\\bar{x})(y-\\bar{y})}{\\sqrt{\\sum (x-\\bar{x})^2 \\sum (y-\\bar{y})^2}}\n",
    "$$\n",
    "\n",
    "An alternative version is the formla:\n",
    "\n",
    "$$\n",
    "r=\\frac{\\sum xy-n\\bar{x}\\bar{y}}{\\sqrt{(\\sum (x^2-n\\bar{x}^2) (\\sum (y^2-n\\bar{y}^2)}}\n",
    "$$"
   ]
  },
  {
   "cell_type": "code",
   "execution_count": null,
   "metadata": {},
   "outputs": [],
   "source": []
  }
 ],
 "metadata": {
  "kernelspec": {
   "display_name": "Python 3",
   "language": "python",
   "name": "python3"
  },
  "language_info": {
   "codemirror_mode": {
    "name": "ipython",
    "version": 3
   },
   "file_extension": ".py",
   "mimetype": "text/x-python",
   "name": "python",
   "nbconvert_exporter": "python",
   "pygments_lexer": "ipython3",
   "version": "3.7.6"
  }
 },
 "nbformat": 4,
 "nbformat_minor": 4
}
