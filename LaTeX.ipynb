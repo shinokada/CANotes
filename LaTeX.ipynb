{
 "cells": [
  {
   "cell_type": "markdown",
   "metadata": {},
   "source": [
    "# How to write LaTeX in Jupyter\n",
    "\n",
    "[LaTeX](https://en.wikipedia.org/wiki/LaTeX) is widely used in academia for the communication and publication of scientific documents in many fields.\n",
    "\n",
    "- You need to enclose them in dollar($) signs. \n",
    "\n",
    "To align to the left use a single dollar($) sign.\n",
    "\n",
    "`$P(A)=\\frac{n(A)}{n(U)}$`\n",
    "\n",
    "$P(A)=\\frac{n(A)}{n(U)}$\n",
    "\n",
    "To align to the center use double dollar($$) signs.\n",
    "\n",
    "`$$P(A)=\\frac{n(A)}{n(U)}$$`\n",
    "\n",
    "$$P(A)=\\frac{n(A)}{n(U)}$$\n",
    "\n",
    "- Use `\\limits` for `\\lim`, `\\sum` and `\\int` to add limits to the top and the bottom of each sign.\n",
    "\n",
    "- Use a backslash to escape LaTeX special words such as Math symbols, Latin words, text, etc.\n",
    "\n",
    "\n",
    " Example | <div style=\"width:290px\">Output</div>\n",
    ":--:|:--:\n",
    "P(A)=\\frac{n(A)}{n(U)}| $P(A)=\\frac{n(A)}{n(U)}$\n",
    "\\sqrt{x+y}|$\\sqrt{x+y}$\n",
    "u_n=u_1r^{n-1}|$u_n=u_1r^{n-1}$\n",
    "u_n=u_1+(n-1)d|$u_n=u_1+(n-1)d$\n",
    "\\alpha \\beta \\pi \\Gamma|$\\alpha \\beta \\pi \\Gamma$\n",
    "A=\\pi r^2\\text{ ,where r is the radius}| $A=\\pi r^2\\text{ ,where r is the radius}$\n",
    "n=\\sum \\limits _{i=1} ^{\\infty} f_i |$n=\\sum \\limits _{i=1} ^{\\infty} f_i$\n",
    "\\lim\\limits_{x\\to\\infty}|$\\lim\\limits_{x\\to\\infty}$\n",
    "\\int\\limits_{a}^{b} x^2 dx |$\\int\\limits_{a}^{b} x^2 dx$\n",
    "\\sin()|$\\sin(x+y)$\n",
    "\\leq \\geq \\approx \\neq |$ \\leq \\geq \\approx \\neq$\n",
    "\\overline{x} | $\\overline{x}$\n",
    "X\\sim N(\\mu, \\sigma^2)|$X\\sim N(\\mu, \\sigma^2)$\n",
    "\\mathbb{I, R, Q, N, Z}|$\\mathbb{I, R, Q, N, Z}$\n",
    "\n",
    "\n",
    "For more information please see this [article](https://davidhamann.de/2017/06/12/latex-cheat-sheet/) or [this link](https://www.overleaf.com/learn/latex/Integrals,_sums_and_limits). For mathematical symbols, see this [link](https://oeis.org/wiki/List_of_LaTeX_mathematical_symbols).\n",
    "\n",
    "Can you write the following equation for mean in LaTeX?\n",
    "\n",
    "$$\\overline{x}=\\frac{\\sum \\limits _{i=1} ^k f_i x_i}{n} \\text{, where } n=\\sum \\limits _{i=1} ^k f_i  $$\n"
   ]
  },
  {
   "cell_type": "code",
   "execution_count": null,
   "metadata": {},
   "outputs": [],
   "source": []
  }
 ],
 "metadata": {
  "kernelspec": {
   "display_name": "Python 3",
   "language": "python",
   "name": "python3"
  },
  "language_info": {
   "codemirror_mode": {
    "name": "ipython",
    "version": 3
   },
   "file_extension": ".py",
   "mimetype": "text/x-python",
   "name": "python",
   "nbconvert_exporter": "python",
   "pygments_lexer": "ipython3",
   "version": "3.7.6"
  }
 },
 "nbformat": 4,
 "nbformat_minor": 4
}
