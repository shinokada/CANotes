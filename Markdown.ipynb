{
 "cells": [
  {
   "cell_type": "markdown",
   "metadata": {},
   "source": [
    "# Markdown\n",
    "\n",
    "Markdown is a lightweight markup language with plain-text-formatting syntax. ([Wikipedia](https://en.wikipedia.org/wiki/Markdown))\n",
    "\n",
    "## How to change the cell to markdown\n",
    "\n",
    "One way to change a cell to markdown is by selecting Markdown from a dropdown.\n",
    "\n",
    "![select markdown](https://github.com/shinokada/python-for-ib-diploma-mathematics/blob/master/image/markdown.png?raw=true)\n",
    "\n",
    "Another way is to use a shortcut, `m` after selecting a cell. You may need to press escape if you are typing `m` in the cell, `y` to change to code and `r` to change to raw.\n",
    "\n",
    "\n",
    "## Headers\n",
    "\n",
    "Use `#` for H1, `##` for H2 etc.\n",
    "\n",
    "```\n",
    "# Main title\n",
    "## Sub title\n",
    "### H3 title\n",
    "#### H4 title\n",
    "```"
   ]
  },
  {
   "cell_type": "markdown",
   "metadata": {},
   "source": [
    "The above will print out the following.\n",
    "\n",
    "# Main title\n",
    "## Sub title\n",
    "### H3 title\n",
    "#### H4 title"
   ]
  },
  {
   "cell_type": "markdown",
   "metadata": {},
   "source": [
    "## List\n",
    "\n",
    "You can use * or - to create a nested unordered list and use numbers for an ordered list.\n",
    "\n",
    "```\n",
    "- main 1\n",
    "  - sub 1\n",
    "  - sub 2\n",
    "- main 2\n",
    "- main 3\n",
    "\n",
    "1. Main list 1\n",
    "2. Main list 2\n",
    "  - sub list 2-1\n",
    "  - sub list 2-2\n",
    "3. Main list 3\n",
    "```"
   ]
  },
  {
   "cell_type": "markdown",
   "metadata": {},
   "source": [
    "The above produces the following.\n",
    "\n",
    "- main 1\n",
    "  - sub 1\n",
    "  - sub 2\n",
    "    - sub sub 1\n",
    "    - sub sub 2\n",
    "- main 2\n",
    "- main 3\n",
    "\n",
    "\n",
    "1. Main list 1\n",
    "2. Main list 2\n",
    "  - sub list 2-1\n",
    "  - sub list 2-2\n",
    "3. Main list 3"
   ]
  },
  {
   "cell_type": "markdown",
   "metadata": {},
   "source": [
    "## Link\n",
    "\n",
    "Markdown links use parentheses immediately after the link text like `[Link name](url)`.\n",
    "\n",
    "```\n",
    "[Google](https://www.google.com)\n",
    "```"
   ]
  },
  {
   "cell_type": "markdown",
   "metadata": {},
   "source": [
    "\n",
    "The above code produces,[Google](https://www.google.com)."
   ]
  },
  {
   "cell_type": "markdown",
   "metadata": {},
   "source": [
    "## Image\n",
    "\n",
    "Markdown image syntax is like Links syntax but you prefix it with an exclamation mark like `![alt text](link)`.\n",
    "\n",
    "```\n",
    "![alt text here](https://github.com/shinokada/python-for-ib-diploma-mathematics/blob/master/image/jupyter_logo.png \"Logo Title Jupyter Notebook logo\")\n",
    "```"
   ]
  },
  {
   "cell_type": "markdown",
   "metadata": {},
   "source": [
    "## Tables\n",
    "\n",
    "To add a table, use three or more hyphens (---) to create each column’s header, and use pipes (|) to separate each column. You can optionally add pipes on either end of the table. Use `:---:` to center a column, `:---` to align left.\n",
    "\n",
    "```\n",
    "Id | Syntax      | Description \n",
    "--|:---------:|:-----------:\n",
    "1|Header      | Something very long long long here      \n",
    "2|Long long long paragraph   | Text   \n",
    "```"
   ]
  },
  {
   "cell_type": "markdown",
   "metadata": {},
   "source": [
    "The rendered output looks like this:\n",
    "\n",
    "<br>\n",
    "\n",
    "Id | Syntax      | Description \n",
    "--|:---------:|:-----------:\n",
    "1|Header      | Something very long long long here      \n",
    "2|Long long long paragraph   | Text  \n",
    "   "
   ]
  },
  {
   "cell_type": "markdown",
   "metadata": {},
   "source": [
    "If you want to know more about markdown, please read [this page](https://github.com/adam-p/markdown-here/wiki/Markdown-Cheatsheet)."
   ]
  }
 ],
 "metadata": {
  "kernelspec": {
   "display_name": "Python 3",
   "language": "python",
   "name": "python3"
  },
  "language_info": {
   "codemirror_mode": {
    "name": "ipython",
    "version": 3
   },
   "file_extension": ".py",
   "mimetype": "text/x-python",
   "name": "python",
   "nbconvert_exporter": "python",
   "pygments_lexer": "ipython3",
   "version": "3.7.6"
  }
 },
 "nbformat": 4,
 "nbformat_minor": 4
}
